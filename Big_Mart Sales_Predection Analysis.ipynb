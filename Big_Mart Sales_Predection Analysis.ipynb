{
 "cells": [
  {
   "cell_type": "markdown",
   "id": "66a2763d",
   "metadata": {},
   "source": [
    "# Predicting Total Product Sales By Outlet: A Regression Problem"
   ]
  },
  {
   "cell_type": "markdown",
   "id": "df6cacaf",
   "metadata": {},
   "source": [
    "## 1. The Problem\n",
    "Build a predictive model and predict the sales of each product at a particular outlet.\n",
    "\n",
    "Important: Sales of a given product at a retail store can depend both on store attributes as well as product attributes."
   ]
  },
  {
   "cell_type": "markdown",
   "id": "30b54230",
   "metadata": {},
   "source": [
    "# 3. Import Dependencies"
   ]
  },
  {
   "cell_type": "code",
   "execution_count": 3,
   "id": "d6038dcb",
   "metadata": {},
   "outputs": [],
   "source": [
    "import matplotlib.pyplot as plt\n",
    "import numpy as np\n",
    "import pandas as pd\n",
    "import seaborn as sns\n",
    "\n",
    "from sklearn.ensemble import RandomForestRegressor\n",
    "from sklearn.linear_model import LinearRegression, Ridge, Lasso\n",
    "from sklearn.metrics import mean_squared_error, r2_score\n",
    "from sklearn.model_selection import train_test_split\n",
    "from sklearn.pipeline import make_pipeline\n",
    "from sklearn.preprocessing import LabelEncoder, StandardScaler\n",
    "from sklearn.svm import SVR\n",
    "from sklearn.tree import DecisionTreeRegressor\n",
    "\n",
    "\n",
    "sns.set()"
   ]
  },
  {
   "cell_type": "markdown",
   "id": "e2178c2e",
   "metadata": {},
   "source": [
    "## 4. Getting The Data"
   ]
  },
  {
   "cell_type": "code",
   "execution_count": 4,
   "id": "27570f4d",
   "metadata": {},
   "outputs": [],
   "source": [
    "# load the data\n",
    "raw_data = pd.read_csv('D:\\Data Analysis Internship\\9961_14084_bundle_archive\\Train.csv')"
   ]
  },
  {
   "cell_type": "markdown",
   "id": "2cc68e9d",
   "metadata": {},
   "source": [
    "## 5. Exploring The Data To Gain Insights"
   ]
  },
  {
   "cell_type": "code",
   "execution_count": 5,
   "id": "1a0b8d17",
   "metadata": {},
   "outputs": [
    {
     "data": {
      "text/plain": [
       "(8523, 12)"
      ]
     },
     "execution_count": 5,
     "metadata": {},
     "output_type": "execute_result"
    }
   ],
   "source": [
    "# number of datapoints and features\n",
    "raw_data.shape"
   ]
  },
  {
   "cell_type": "code",
   "execution_count": 7,
   "id": "16979202",
   "metadata": {},
   "outputs": [
    {
     "name": "stdout",
     "output_type": "stream",
     "text": [
      "<class 'pandas.core.frame.DataFrame'>\n",
      "RangeIndex: 8523 entries, 0 to 8522\n",
      "Data columns (total 12 columns):\n",
      " #   Column                     Non-Null Count  Dtype  \n",
      "---  ------                     --------------  -----  \n",
      " 0   Item_Identifier            8523 non-null   object \n",
      " 1   Item_Weight                7060 non-null   float64\n",
      " 2   Item_Fat_Content           8523 non-null   object \n",
      " 3   Item_Visibility            8523 non-null   float64\n",
      " 4   Item_Type                  8523 non-null   object \n",
      " 5   Item_MRP                   8523 non-null   float64\n",
      " 6   Outlet_Identifier          8523 non-null   object \n",
      " 7   Outlet_Establishment_Year  8523 non-null   int64  \n",
      " 8   Outlet_Size                6113 non-null   object \n",
      " 9   Outlet_Location_Type       8523 non-null   object \n",
      " 10  Outlet_Type                8523 non-null   object \n",
      " 11  Item_Outlet_Sales          8523 non-null   float64\n",
      "dtypes: float64(4), int64(1), object(7)\n",
      "memory usage: 799.2+ KB\n"
     ]
    }
   ],
   "source": [
    "# check general info and dtypes\n",
    "raw_data.info()"
   ]
  },
  {
   "cell_type": "code",
   "execution_count": 8,
   "id": "18f23e0f",
   "metadata": {},
   "outputs": [
    {
     "data": {
      "text/html": [
       "<div>\n",
       "<style scoped>\n",
       "    .dataframe tbody tr th:only-of-type {\n",
       "        vertical-align: middle;\n",
       "    }\n",
       "\n",
       "    .dataframe tbody tr th {\n",
       "        vertical-align: top;\n",
       "    }\n",
       "\n",
       "    .dataframe thead th {\n",
       "        text-align: right;\n",
       "    }\n",
       "</style>\n",
       "<table border=\"1\" class=\"dataframe\">\n",
       "  <thead>\n",
       "    <tr style=\"text-align: right;\">\n",
       "      <th></th>\n",
       "      <th>Item_Identifier</th>\n",
       "      <th>Item_Weight</th>\n",
       "      <th>Item_Fat_Content</th>\n",
       "      <th>Item_Visibility</th>\n",
       "      <th>Item_Type</th>\n",
       "      <th>Item_MRP</th>\n",
       "      <th>Outlet_Identifier</th>\n",
       "      <th>Outlet_Establishment_Year</th>\n",
       "      <th>Outlet_Size</th>\n",
       "      <th>Outlet_Location_Type</th>\n",
       "      <th>Outlet_Type</th>\n",
       "      <th>Item_Outlet_Sales</th>\n",
       "    </tr>\n",
       "  </thead>\n",
       "  <tbody>\n",
       "    <tr>\n",
       "      <th>0</th>\n",
       "      <td>FDA15</td>\n",
       "      <td>9.30</td>\n",
       "      <td>Low Fat</td>\n",
       "      <td>0.016047</td>\n",
       "      <td>Dairy</td>\n",
       "      <td>249.8092</td>\n",
       "      <td>OUT049</td>\n",
       "      <td>1999</td>\n",
       "      <td>Medium</td>\n",
       "      <td>Tier 1</td>\n",
       "      <td>Supermarket Type1</td>\n",
       "      <td>3735.1380</td>\n",
       "    </tr>\n",
       "    <tr>\n",
       "      <th>1</th>\n",
       "      <td>DRC01</td>\n",
       "      <td>5.92</td>\n",
       "      <td>Regular</td>\n",
       "      <td>0.019278</td>\n",
       "      <td>Soft Drinks</td>\n",
       "      <td>48.2692</td>\n",
       "      <td>OUT018</td>\n",
       "      <td>2009</td>\n",
       "      <td>Medium</td>\n",
       "      <td>Tier 3</td>\n",
       "      <td>Supermarket Type2</td>\n",
       "      <td>443.4228</td>\n",
       "    </tr>\n",
       "    <tr>\n",
       "      <th>2</th>\n",
       "      <td>FDN15</td>\n",
       "      <td>17.50</td>\n",
       "      <td>Low Fat</td>\n",
       "      <td>0.016760</td>\n",
       "      <td>Meat</td>\n",
       "      <td>141.6180</td>\n",
       "      <td>OUT049</td>\n",
       "      <td>1999</td>\n",
       "      <td>Medium</td>\n",
       "      <td>Tier 1</td>\n",
       "      <td>Supermarket Type1</td>\n",
       "      <td>2097.2700</td>\n",
       "    </tr>\n",
       "    <tr>\n",
       "      <th>3</th>\n",
       "      <td>FDX07</td>\n",
       "      <td>19.20</td>\n",
       "      <td>Regular</td>\n",
       "      <td>0.000000</td>\n",
       "      <td>Fruits and Vegetables</td>\n",
       "      <td>182.0950</td>\n",
       "      <td>OUT010</td>\n",
       "      <td>1998</td>\n",
       "      <td>NaN</td>\n",
       "      <td>Tier 3</td>\n",
       "      <td>Grocery Store</td>\n",
       "      <td>732.3800</td>\n",
       "    </tr>\n",
       "    <tr>\n",
       "      <th>4</th>\n",
       "      <td>NCD19</td>\n",
       "      <td>8.93</td>\n",
       "      <td>Low Fat</td>\n",
       "      <td>0.000000</td>\n",
       "      <td>Household</td>\n",
       "      <td>53.8614</td>\n",
       "      <td>OUT013</td>\n",
       "      <td>1987</td>\n",
       "      <td>High</td>\n",
       "      <td>Tier 3</td>\n",
       "      <td>Supermarket Type1</td>\n",
       "      <td>994.7052</td>\n",
       "    </tr>\n",
       "  </tbody>\n",
       "</table>\n",
       "</div>"
      ],
      "text/plain": [
       "  Item_Identifier  Item_Weight Item_Fat_Content  Item_Visibility  \\\n",
       "0           FDA15         9.30          Low Fat         0.016047   \n",
       "1           DRC01         5.92          Regular         0.019278   \n",
       "2           FDN15        17.50          Low Fat         0.016760   \n",
       "3           FDX07        19.20          Regular         0.000000   \n",
       "4           NCD19         8.93          Low Fat         0.000000   \n",
       "\n",
       "               Item_Type  Item_MRP Outlet_Identifier  \\\n",
       "0                  Dairy  249.8092            OUT049   \n",
       "1            Soft Drinks   48.2692            OUT018   \n",
       "2                   Meat  141.6180            OUT049   \n",
       "3  Fruits and Vegetables  182.0950            OUT010   \n",
       "4              Household   53.8614            OUT013   \n",
       "\n",
       "   Outlet_Establishment_Year Outlet_Size Outlet_Location_Type  \\\n",
       "0                       1999      Medium               Tier 1   \n",
       "1                       2009      Medium               Tier 3   \n",
       "2                       1999      Medium               Tier 1   \n",
       "3                       1998         NaN               Tier 3   \n",
       "4                       1987        High               Tier 3   \n",
       "\n",
       "         Outlet_Type  Item_Outlet_Sales  \n",
       "0  Supermarket Type1          3735.1380  \n",
       "1  Supermarket Type2           443.4228  \n",
       "2  Supermarket Type1          2097.2700  \n",
       "3      Grocery Store           732.3800  \n",
       "4  Supermarket Type1           994.7052  "
      ]
     },
     "execution_count": 8,
     "metadata": {},
     "output_type": "execute_result"
    }
   ],
   "source": [
    "# how the data looks like\n",
    "raw_data.head()"
   ]
  },
  {
   "cell_type": "code",
   "execution_count": 9,
   "id": "471291b4",
   "metadata": {},
   "outputs": [
    {
     "data": {
      "text/html": [
       "<div>\n",
       "<style scoped>\n",
       "    .dataframe tbody tr th:only-of-type {\n",
       "        vertical-align: middle;\n",
       "    }\n",
       "\n",
       "    .dataframe tbody tr th {\n",
       "        vertical-align: top;\n",
       "    }\n",
       "\n",
       "    .dataframe thead th {\n",
       "        text-align: right;\n",
       "    }\n",
       "</style>\n",
       "<table border=\"1\" class=\"dataframe\">\n",
       "  <thead>\n",
       "    <tr style=\"text-align: right;\">\n",
       "      <th></th>\n",
       "      <th>Item_Identifier</th>\n",
       "      <th>Item_Weight</th>\n",
       "      <th>Item_Fat_Content</th>\n",
       "      <th>Item_Visibility</th>\n",
       "      <th>Item_Type</th>\n",
       "      <th>Item_MRP</th>\n",
       "      <th>Outlet_Identifier</th>\n",
       "      <th>Outlet_Establishment_Year</th>\n",
       "      <th>Outlet_Size</th>\n",
       "      <th>Outlet_Location_Type</th>\n",
       "      <th>Outlet_Type</th>\n",
       "      <th>Item_Outlet_Sales</th>\n",
       "    </tr>\n",
       "  </thead>\n",
       "  <tbody>\n",
       "    <tr>\n",
       "      <th>count</th>\n",
       "      <td>8523</td>\n",
       "      <td>7060.000000</td>\n",
       "      <td>8523</td>\n",
       "      <td>8523.000000</td>\n",
       "      <td>8523</td>\n",
       "      <td>8523.000000</td>\n",
       "      <td>8523</td>\n",
       "      <td>8523.000000</td>\n",
       "      <td>6113</td>\n",
       "      <td>8523</td>\n",
       "      <td>8523</td>\n",
       "      <td>8523.000000</td>\n",
       "    </tr>\n",
       "    <tr>\n",
       "      <th>unique</th>\n",
       "      <td>1559</td>\n",
       "      <td>NaN</td>\n",
       "      <td>5</td>\n",
       "      <td>NaN</td>\n",
       "      <td>16</td>\n",
       "      <td>NaN</td>\n",
       "      <td>10</td>\n",
       "      <td>NaN</td>\n",
       "      <td>3</td>\n",
       "      <td>3</td>\n",
       "      <td>4</td>\n",
       "      <td>NaN</td>\n",
       "    </tr>\n",
       "    <tr>\n",
       "      <th>top</th>\n",
       "      <td>FDW13</td>\n",
       "      <td>NaN</td>\n",
       "      <td>Low Fat</td>\n",
       "      <td>NaN</td>\n",
       "      <td>Fruits and Vegetables</td>\n",
       "      <td>NaN</td>\n",
       "      <td>OUT027</td>\n",
       "      <td>NaN</td>\n",
       "      <td>Medium</td>\n",
       "      <td>Tier 3</td>\n",
       "      <td>Supermarket Type1</td>\n",
       "      <td>NaN</td>\n",
       "    </tr>\n",
       "    <tr>\n",
       "      <th>freq</th>\n",
       "      <td>10</td>\n",
       "      <td>NaN</td>\n",
       "      <td>5089</td>\n",
       "      <td>NaN</td>\n",
       "      <td>1232</td>\n",
       "      <td>NaN</td>\n",
       "      <td>935</td>\n",
       "      <td>NaN</td>\n",
       "      <td>2793</td>\n",
       "      <td>3350</td>\n",
       "      <td>5577</td>\n",
       "      <td>NaN</td>\n",
       "    </tr>\n",
       "    <tr>\n",
       "      <th>mean</th>\n",
       "      <td>NaN</td>\n",
       "      <td>12.857645</td>\n",
       "      <td>NaN</td>\n",
       "      <td>0.066132</td>\n",
       "      <td>NaN</td>\n",
       "      <td>140.992782</td>\n",
       "      <td>NaN</td>\n",
       "      <td>1997.831867</td>\n",
       "      <td>NaN</td>\n",
       "      <td>NaN</td>\n",
       "      <td>NaN</td>\n",
       "      <td>2181.288914</td>\n",
       "    </tr>\n",
       "    <tr>\n",
       "      <th>std</th>\n",
       "      <td>NaN</td>\n",
       "      <td>4.643456</td>\n",
       "      <td>NaN</td>\n",
       "      <td>0.051598</td>\n",
       "      <td>NaN</td>\n",
       "      <td>62.275067</td>\n",
       "      <td>NaN</td>\n",
       "      <td>8.371760</td>\n",
       "      <td>NaN</td>\n",
       "      <td>NaN</td>\n",
       "      <td>NaN</td>\n",
       "      <td>1706.499616</td>\n",
       "    </tr>\n",
       "    <tr>\n",
       "      <th>min</th>\n",
       "      <td>NaN</td>\n",
       "      <td>4.555000</td>\n",
       "      <td>NaN</td>\n",
       "      <td>0.000000</td>\n",
       "      <td>NaN</td>\n",
       "      <td>31.290000</td>\n",
       "      <td>NaN</td>\n",
       "      <td>1985.000000</td>\n",
       "      <td>NaN</td>\n",
       "      <td>NaN</td>\n",
       "      <td>NaN</td>\n",
       "      <td>33.290000</td>\n",
       "    </tr>\n",
       "    <tr>\n",
       "      <th>25%</th>\n",
       "      <td>NaN</td>\n",
       "      <td>8.773750</td>\n",
       "      <td>NaN</td>\n",
       "      <td>0.026989</td>\n",
       "      <td>NaN</td>\n",
       "      <td>93.826500</td>\n",
       "      <td>NaN</td>\n",
       "      <td>1987.000000</td>\n",
       "      <td>NaN</td>\n",
       "      <td>NaN</td>\n",
       "      <td>NaN</td>\n",
       "      <td>834.247400</td>\n",
       "    </tr>\n",
       "    <tr>\n",
       "      <th>50%</th>\n",
       "      <td>NaN</td>\n",
       "      <td>12.600000</td>\n",
       "      <td>NaN</td>\n",
       "      <td>0.053931</td>\n",
       "      <td>NaN</td>\n",
       "      <td>143.012800</td>\n",
       "      <td>NaN</td>\n",
       "      <td>1999.000000</td>\n",
       "      <td>NaN</td>\n",
       "      <td>NaN</td>\n",
       "      <td>NaN</td>\n",
       "      <td>1794.331000</td>\n",
       "    </tr>\n",
       "    <tr>\n",
       "      <th>75%</th>\n",
       "      <td>NaN</td>\n",
       "      <td>16.850000</td>\n",
       "      <td>NaN</td>\n",
       "      <td>0.094585</td>\n",
       "      <td>NaN</td>\n",
       "      <td>185.643700</td>\n",
       "      <td>NaN</td>\n",
       "      <td>2004.000000</td>\n",
       "      <td>NaN</td>\n",
       "      <td>NaN</td>\n",
       "      <td>NaN</td>\n",
       "      <td>3101.296400</td>\n",
       "    </tr>\n",
       "    <tr>\n",
       "      <th>max</th>\n",
       "      <td>NaN</td>\n",
       "      <td>21.350000</td>\n",
       "      <td>NaN</td>\n",
       "      <td>0.328391</td>\n",
       "      <td>NaN</td>\n",
       "      <td>266.888400</td>\n",
       "      <td>NaN</td>\n",
       "      <td>2009.000000</td>\n",
       "      <td>NaN</td>\n",
       "      <td>NaN</td>\n",
       "      <td>NaN</td>\n",
       "      <td>13086.964800</td>\n",
       "    </tr>\n",
       "  </tbody>\n",
       "</table>\n",
       "</div>"
      ],
      "text/plain": [
       "       Item_Identifier  Item_Weight Item_Fat_Content  Item_Visibility  \\\n",
       "count             8523  7060.000000             8523      8523.000000   \n",
       "unique            1559          NaN                5              NaN   \n",
       "top              FDW13          NaN          Low Fat              NaN   \n",
       "freq                10          NaN             5089              NaN   \n",
       "mean               NaN    12.857645              NaN         0.066132   \n",
       "std                NaN     4.643456              NaN         0.051598   \n",
       "min                NaN     4.555000              NaN         0.000000   \n",
       "25%                NaN     8.773750              NaN         0.026989   \n",
       "50%                NaN    12.600000              NaN         0.053931   \n",
       "75%                NaN    16.850000              NaN         0.094585   \n",
       "max                NaN    21.350000              NaN         0.328391   \n",
       "\n",
       "                    Item_Type     Item_MRP Outlet_Identifier  \\\n",
       "count                    8523  8523.000000              8523   \n",
       "unique                     16          NaN                10   \n",
       "top     Fruits and Vegetables          NaN            OUT027   \n",
       "freq                     1232          NaN               935   \n",
       "mean                      NaN   140.992782               NaN   \n",
       "std                       NaN    62.275067               NaN   \n",
       "min                       NaN    31.290000               NaN   \n",
       "25%                       NaN    93.826500               NaN   \n",
       "50%                       NaN   143.012800               NaN   \n",
       "75%                       NaN   185.643700               NaN   \n",
       "max                       NaN   266.888400               NaN   \n",
       "\n",
       "        Outlet_Establishment_Year Outlet_Size Outlet_Location_Type  \\\n",
       "count                 8523.000000        6113                 8523   \n",
       "unique                        NaN           3                    3   \n",
       "top                           NaN      Medium               Tier 3   \n",
       "freq                          NaN        2793                 3350   \n",
       "mean                  1997.831867         NaN                  NaN   \n",
       "std                      8.371760         NaN                  NaN   \n",
       "min                   1985.000000         NaN                  NaN   \n",
       "25%                   1987.000000         NaN                  NaN   \n",
       "50%                   1999.000000         NaN                  NaN   \n",
       "75%                   2004.000000         NaN                  NaN   \n",
       "max                   2009.000000         NaN                  NaN   \n",
       "\n",
       "              Outlet_Type  Item_Outlet_Sales  \n",
       "count                8523        8523.000000  \n",
       "unique                  4                NaN  \n",
       "top     Supermarket Type1                NaN  \n",
       "freq                 5577                NaN  \n",
       "mean                  NaN        2181.288914  \n",
       "std                   NaN        1706.499616  \n",
       "min                   NaN          33.290000  \n",
       "25%                   NaN         834.247400  \n",
       "50%                   NaN        1794.331000  \n",
       "75%                   NaN        3101.296400  \n",
       "max                   NaN       13086.964800  "
      ]
     },
     "execution_count": 9,
     "metadata": {},
     "output_type": "execute_result"
    }
   ],
   "source": [
    "# get statistics from the data\n",
    "raw_data.describe(include='all')"
   ]
  },
  {
   "cell_type": "code",
   "execution_count": 10,
   "id": "cb135e0a",
   "metadata": {},
   "outputs": [
    {
     "data": {
      "text/plain": [
       "Item_Identifier                 0\n",
       "Item_Weight                  1463\n",
       "Item_Fat_Content                0\n",
       "Item_Visibility                 0\n",
       "Item_Type                       0\n",
       "Item_MRP                        0\n",
       "Outlet_Identifier               0\n",
       "Outlet_Establishment_Year       0\n",
       "Outlet_Size                  2410\n",
       "Outlet_Location_Type            0\n",
       "Outlet_Type                     0\n",
       "Item_Outlet_Sales               0\n",
       "dtype: int64"
      ]
     },
     "execution_count": 10,
     "metadata": {},
     "output_type": "execute_result"
    }
   ],
   "source": [
    "# verify null values\n",
    "raw_data.isna().sum()"
   ]
  },
  {
   "cell_type": "code",
   "execution_count": 11,
   "id": "b44433d2",
   "metadata": {},
   "outputs": [
    {
     "data": {
      "text/plain": [
       "False"
      ]
     },
     "execution_count": 11,
     "metadata": {},
     "output_type": "execute_result"
    }
   ],
   "source": [
    "# check for duplicated rows\n",
    "raw_data.duplicated().any()"
   ]
  },
  {
   "cell_type": "code",
   "execution_count": 12,
   "id": "65b08ee3",
   "metadata": {},
   "outputs": [
    {
     "data": {
      "text/plain": [
       "Item_Identifier              1559\n",
       "Item_Weight                   416\n",
       "Item_Fat_Content                5\n",
       "Item_Visibility              7880\n",
       "Item_Type                      16\n",
       "Item_MRP                     5938\n",
       "Outlet_Identifier              10\n",
       "Outlet_Establishment_Year       9\n",
       "Outlet_Size                     4\n",
       "Outlet_Location_Type            3\n",
       "Outlet_Type                     4\n",
       "Item_Outlet_Sales            3493\n",
       "dtype: int64"
      ]
     },
     "execution_count": 12,
     "metadata": {},
     "output_type": "execute_result"
    }
   ],
   "source": [
    "# verify unique values\n",
    "raw_data.apply(lambda x: len(x.unique()))"
   ]
  },
  {
   "cell_type": "code",
   "execution_count": 13,
   "id": "76ceb9e4",
   "metadata": {},
   "outputs": [
    {
     "name": "stdout",
     "output_type": "stream",
     "text": [
      "Categorical Columns:  ['Item_Identifier', 'Item_Fat_Content', 'Item_Type', 'Outlet_Identifier', 'Outlet_Size', 'Outlet_Location_Type', 'Outlet_Type']\n",
      "Numerical Columns:  ['Item_Weight', 'Item_Visibility', 'Item_MRP', 'Outlet_Establishment_Year', 'Item_Outlet_Sales']\n"
     ]
    }
   ],
   "source": [
    "# getting categorical and numerical columns\n",
    "cat_cols = raw_data.select_dtypes(exclude='number').columns.to_list()\n",
    "num_cols = raw_data.select_dtypes(include='number').columns.to_list()\n",
    "\n",
    "print('Categorical Columns: ', cat_cols)\n",
    "print('Numerical Columns: ', num_cols)"
   ]
  },
  {
   "cell_type": "code",
   "execution_count": 14,
   "id": "c3bb7c4d",
   "metadata": {},
   "outputs": [
    {
     "name": "stdout",
     "output_type": "stream",
     "text": [
      "-----------------------------\n",
      "Series:  Item_Identifier\n",
      "-----------------------------\n",
      "FDW13    10\n",
      "FDG33    10\n",
      "NCY18     9\n",
      "FDD38     9\n",
      "DRE49     9\n",
      "         ..\n",
      "FDY43     1\n",
      "FDQ60     1\n",
      "FDO33     1\n",
      "DRF48     1\n",
      "FDC23     1\n",
      "Name: Item_Identifier, Length: 1559, dtype: int64\n",
      "\n",
      "\n",
      "-----------------------------\n",
      "Series:  Item_Fat_Content\n",
      "-----------------------------\n",
      "Low Fat    5089\n",
      "Regular    2889\n",
      "LF          316\n",
      "reg         117\n",
      "low fat     112\n",
      "Name: Item_Fat_Content, dtype: int64\n",
      "\n",
      "\n",
      "-----------------------------\n",
      "Series:  Item_Type\n",
      "-----------------------------\n",
      "Fruits and Vegetables    1232\n",
      "Snack Foods              1200\n",
      "Household                 910\n",
      "Frozen Foods              856\n",
      "Dairy                     682\n",
      "Canned                    649\n",
      "Baking Goods              648\n",
      "Health and Hygiene        520\n",
      "Soft Drinks               445\n",
      "Meat                      425\n",
      "Breads                    251\n",
      "Hard Drinks               214\n",
      "Others                    169\n",
      "Starchy Foods             148\n",
      "Breakfast                 110\n",
      "Seafood                    64\n",
      "Name: Item_Type, dtype: int64\n",
      "\n",
      "\n",
      "-----------------------------\n",
      "Series:  Outlet_Identifier\n",
      "-----------------------------\n",
      "OUT027    935\n",
      "OUT013    932\n",
      "OUT049    930\n",
      "OUT046    930\n",
      "OUT035    930\n",
      "OUT045    929\n",
      "OUT018    928\n",
      "OUT017    926\n",
      "OUT010    555\n",
      "OUT019    528\n",
      "Name: Outlet_Identifier, dtype: int64\n",
      "\n",
      "\n",
      "-----------------------------\n",
      "Series:  Outlet_Size\n",
      "-----------------------------\n",
      "Medium    2793\n",
      "Small     2388\n",
      "High       932\n",
      "Name: Outlet_Size, dtype: int64\n",
      "\n",
      "\n",
      "-----------------------------\n",
      "Series:  Outlet_Location_Type\n",
      "-----------------------------\n",
      "Tier 3    3350\n",
      "Tier 2    2785\n",
      "Tier 1    2388\n",
      "Name: Outlet_Location_Type, dtype: int64\n",
      "\n",
      "\n",
      "-----------------------------\n",
      "Series:  Outlet_Type\n",
      "-----------------------------\n",
      "Supermarket Type1    5577\n",
      "Grocery Store        1083\n",
      "Supermarket Type3     935\n",
      "Supermarket Type2     928\n",
      "Name: Outlet_Type, dtype: int64\n",
      "\n",
      "\n"
     ]
    }
   ],
   "source": [
    "# exploring categories\n",
    "for col in cat_cols:\n",
    "    print('-----------------------------')\n",
    "    print('Series: ', col)\n",
    "    print('-----------------------------')\n",
    "    print(raw_data[col].value_counts())\n",
    "    print('\\n')"
   ]
  },
  {
   "cell_type": "markdown",
   "id": "5ac20a53",
   "metadata": {},
   "source": [
    "## Notes:\n",
    "* The dataset 8523 contains datapoints (rows) and 12 features (columns).\n",
    "* The dataset is for 1559 items in 10 different stores.\n",
    "* There are present categorical (object) and numerical features (float, int).\n",
    "* The target is the 'Item_Outlet_Sales' feature.\n",
    "* Some features presents null values and outliers.\n",
    "* There are no duplicate rows.\n",
    "* Item_Identifier:\n",
    "\n",
    "## Ids for 1559 different items.\n",
    "The ids has some prefixes: FD=Food, DR=Drink, NC=Non-Consumable.\n",
    "Item_Weight:\n",
    "\n",
    "## It contains null values.\n",
    "Item_Fat_Content:\n",
    "\n",
    "It has 5 different categories, but some of them do reference to an existing category, it can be summarized to two categories: Low Fat and Regular.\n",
    "This feature do not apply to Non-Consumable items, a new category for them can be created.\n",
    "Item_Visibility:\n",
    "\n",
    "## Some values are 0%, an item can not be bought by a consumer if its not visible, this is an outlier.\n",
    "Item_Type:\n",
    "\n",
    "## There are 16 different item types, the data is not well distributed among all of them.\n",
    "The model can be biased towards the most repetitive types: Fruits and Vegetables and Snack Foods.\n",
    "Outlet_Identifier:\n",
    "\n",
    "## There are 10 different outlet ids.\n",
    "The data seems to be pretty well distributed among all the outlets.\n",
    "Outlet_Size:\n",
    "\n",
    "It has null values.\n",
    "The data is not well distributed among the different sizes.\n",
    "The Oulet_Size has some relation with the Oulet_Type that need to be considered when the null values be filled.\n",
    "Outlet_Location_Type and Outlet_Type:\n",
    "\n",
    "The data is not well distributed among the different sizes.\n",
    "The model can be biased towards the most repetitive types."
   ]
  },
  {
   "cell_type": "markdown",
   "id": "e532b121",
   "metadata": {},
   "source": [
    "## Cleaning The Data And Create New Features"
   ]
  },
  {
   "cell_type": "code",
   "execution_count": 16,
   "id": "de309236",
   "metadata": {},
   "outputs": [],
   "source": [
    "# make a copy of the data\n",
    "clean_data = raw_data.copy()"
   ]
  },
  {
   "cell_type": "code",
   "execution_count": 17,
   "id": "2e4a663f",
   "metadata": {},
   "outputs": [
    {
     "name": "stdout",
     "output_type": "stream",
     "text": [
      "Index(['item_identifier', 'item_weight', 'item_fat_content', 'item_visibility',\n",
      "       'item_type', 'item_mrp', 'outlet_identifier',\n",
      "       'outlet_establishment_year', 'outlet_size', 'outlet_location_type',\n",
      "       'outlet_type', 'item_outlet_sales'],\n",
      "      dtype='object')\n"
     ]
    }
   ],
   "source": [
    "# format column names to be lower-case\n",
    "new_col_names = [col.lower() for col in clean_data.columns]\n",
    "clean_data.columns = new_col_names\n",
    "\n",
    "print(clean_data.columns)"
   ]
  },
  {
   "cell_type": "markdown",
   "id": "f0b09b2f",
   "metadata": {},
   "source": [
    "## 6.1. Filling 'item_weight' null values"
   ]
  },
  {
   "cell_type": "code",
   "execution_count": 18,
   "id": "b19d54ac",
   "metadata": {},
   "outputs": [
    {
     "data": {
      "text/plain": [
       "item_identifier                 0\n",
       "item_weight                     0\n",
       "item_fat_content                0\n",
       "item_visibility                 0\n",
       "item_type                       0\n",
       "item_mrp                        0\n",
       "outlet_identifier               0\n",
       "outlet_establishment_year       0\n",
       "outlet_size                  2410\n",
       "outlet_location_type            0\n",
       "outlet_type                     0\n",
       "item_outlet_sales               0\n",
       "dtype: int64"
      ]
     },
     "execution_count": 18,
     "metadata": {},
     "output_type": "execute_result"
    }
   ],
   "source": [
    "# fill null values using the mean\n",
    "clean_data['item_weight'].fillna(clean_data['item_weight'].mean(), inplace=True)\n",
    "clean_data.isna().sum()"
   ]
  },
  {
   "cell_type": "markdown",
   "id": "91658688",
   "metadata": {},
   "source": [
    "## 6.2. Filling 'outlet_size' null values"
   ]
  },
  {
   "cell_type": "code",
   "execution_count": 20,
   "id": "f3d7c450",
   "metadata": {},
   "outputs": [
    {
     "data": {
      "text/html": [
       "<div>\n",
       "<style scoped>\n",
       "    .dataframe tbody tr th:only-of-type {\n",
       "        vertical-align: middle;\n",
       "    }\n",
       "\n",
       "    .dataframe tbody tr th {\n",
       "        vertical-align: top;\n",
       "    }\n",
       "\n",
       "    .dataframe thead th {\n",
       "        text-align: right;\n",
       "    }\n",
       "</style>\n",
       "<table border=\"1\" class=\"dataframe\">\n",
       "  <thead>\n",
       "    <tr style=\"text-align: right;\">\n",
       "      <th>outlet_type</th>\n",
       "      <th>Grocery Store</th>\n",
       "      <th>Supermarket Type1</th>\n",
       "      <th>Supermarket Type2</th>\n",
       "      <th>Supermarket Type3</th>\n",
       "    </tr>\n",
       "  </thead>\n",
       "  <tbody>\n",
       "    <tr>\n",
       "      <th>outlet_size</th>\n",
       "      <td>Small</td>\n",
       "      <td>Small</td>\n",
       "      <td>Medium</td>\n",
       "      <td>Medium</td>\n",
       "    </tr>\n",
       "  </tbody>\n",
       "</table>\n",
       "</div>"
      ],
      "text/plain": [
       "outlet_type Grocery Store Supermarket Type1 Supermarket Type2  \\\n",
       "outlet_size         Small             Small            Medium   \n",
       "\n",
       "outlet_type Supermarket Type3  \n",
       "outlet_size            Medium  "
      ]
     },
     "execution_count": 20,
     "metadata": {},
     "output_type": "execute_result"
    }
   ],
   "source": [
    "# getting mode based on outlet_type\n",
    "outlet_size_mode_pt = clean_data.pivot_table(values='outlet_size',\n",
    "                                                      columns='outlet_type',\n",
    "                                                      aggfunc=lambda x: x.mode())\n",
    "outlet_size_mode_pt"
   ]
  },
  {
   "cell_type": "code",
   "execution_count": 21,
   "id": "0b68cbb5",
   "metadata": {},
   "outputs": [
    {
     "data": {
      "text/plain": [
       "item_identifier              0\n",
       "item_weight                  0\n",
       "item_fat_content             0\n",
       "item_visibility              0\n",
       "item_type                    0\n",
       "item_mrp                     0\n",
       "outlet_identifier            0\n",
       "outlet_establishment_year    0\n",
       "outlet_size                  0\n",
       "outlet_location_type         0\n",
       "outlet_type                  0\n",
       "item_outlet_sales            0\n",
       "dtype: int64"
      ]
     },
     "execution_count": 21,
     "metadata": {},
     "output_type": "execute_result"
    }
   ],
   "source": [
    "# fill null values using the mode per oulet_type\n",
    "missing_values = clean_data['outlet_size'].isnull()\n",
    "clean_data.loc[missing_values, 'outlet_size'] = clean_data.loc[missing_values, 'outlet_type'].apply(lambda x: outlet_size_mode_pt[x].outlet_size)\n",
    "clean_data.isna().sum()"
   ]
  },
  {
   "cell_type": "markdown",
   "id": "ef96eaa5",
   "metadata": {},
   "source": [
    "## Replace 'item_visibility' 0%"
   ]
  },
  {
   "cell_type": "code",
   "execution_count": 22,
   "id": "ec0637e0",
   "metadata": {},
   "outputs": [
    {
     "name": "stdout",
     "output_type": "stream",
     "text": [
      "Total of 0s before replace:  526\n",
      "Total of 0s after replace:  0\n"
     ]
    }
   ],
   "source": [
    "# print total number of 0s\n",
    "print('Total of 0s before replace: ', sum(clean_data['item_visibility'] == 0))\n",
    "\n",
    "# replace 0s with the mean\n",
    "clean_data.loc[:,'item_visibility'].replace(to_replace=0,\n",
    "                                            value=clean_data['item_visibility'].mean(),\n",
    "                                            inplace=True)\n",
    "\n",
    "# print total number of 0s after the replace\n",
    "print('Total of 0s after replace: ', sum(clean_data['item_visibility'] == 0))"
   ]
  },
  {
   "cell_type": "markdown",
   "id": "2f5e4334",
   "metadata": {},
   "source": [
    "## Replace 'item_fat_content' values"
   ]
  },
  {
   "cell_type": "code",
   "execution_count": 23,
   "id": "6c95ea59",
   "metadata": {},
   "outputs": [
    {
     "name": "stdout",
     "output_type": "stream",
     "text": [
      "['Low Fat' 'Regular' 'low fat' 'LF' 'reg']\n"
     ]
    }
   ],
   "source": [
    "# print values\n",
    "print(clean_data['item_fat_content'].unique())"
   ]
  },
  {
   "cell_type": "code",
   "execution_count": 24,
   "id": "e1928130",
   "metadata": {},
   "outputs": [
    {
     "data": {
      "text/plain": [
       "Low Fat    5517\n",
       "Regular    3006\n",
       "Name: item_fat_content, dtype: int64"
      ]
     },
     "execution_count": 24,
     "metadata": {},
     "output_type": "execute_result"
    }
   ],
   "source": [
    "# replace the repetitive values\n",
    "clean_data['item_fat_content'].replace({'low fat':'Low Fat', 'LF':'Low Fat', 'reg':'Regular'}, inplace=True)\n",
    "clean_data['item_fat_content'].value_counts()"
   ]
  },
  {
   "cell_type": "markdown",
   "id": "c4a7b610",
   "metadata": {},
   "source": [
    "## Create a new 'item_category' feature"
   ]
  },
  {
   "cell_type": "code",
   "execution_count": 25,
   "id": "c42f6a1f",
   "metadata": {},
   "outputs": [
    {
     "data": {
      "text/plain": [
       "Food              6125\n",
       "Non-Consumable    1599\n",
       "Drink              799\n",
       "Name: item_category, dtype: int64"
      ]
     },
     "execution_count": 25,
     "metadata": {},
     "output_type": "execute_result"
    }
   ],
   "source": [
    "# create a new feature using the two first letters of the item_identifier\n",
    "clean_data['item_category'] = clean_data['item_identifier'].apply(lambda x: x[:2])\n",
    "clean_data['item_category'] = clean_data['item_category'].replace({'FD':'Food', 'DR':'Drink', 'NC':'Non-Consumable'})\n",
    "clean_data['item_category'].value_counts()"
   ]
  },
  {
   "cell_type": "markdown",
   "id": "55972adb",
   "metadata": {},
   "source": [
    "## Update 'item_fat_content' for Non-Consumables"
   ]
  },
  {
   "cell_type": "code",
   "execution_count": 26,
   "id": "6676bd06",
   "metadata": {},
   "outputs": [
    {
     "data": {
      "text/plain": [
       "Low Fat      3918\n",
       "Regular      3006\n",
       "No Edible    1599\n",
       "Name: item_fat_content, dtype: int64"
      ]
     },
     "execution_count": 26,
     "metadata": {},
     "output_type": "execute_result"
    }
   ],
   "source": [
    "# adding a new item item_fat_content category for non-consumable items\n",
    "clean_data.loc[clean_data['item_category'] == 'Non-Consumable', 'item_fat_content'] = 'No Edible'\n",
    "clean_data['item_fat_content'].value_counts()"
   ]
  },
  {
   "cell_type": "markdown",
   "id": "e013d2e9",
   "metadata": {},
   "source": [
    "## Create a new 'outlet_years' feature"
   ]
  },
  {
   "cell_type": "code",
   "execution_count": 27,
   "id": "97653a6b",
   "metadata": {},
   "outputs": [
    {
     "data": {
      "text/plain": [
       "0       14\n",
       "1        4\n",
       "2       14\n",
       "3       15\n",
       "4       26\n",
       "        ..\n",
       "8518    26\n",
       "8519    11\n",
       "8520     9\n",
       "8521     4\n",
       "8522    16\n",
       "Name: outlet_years, Length: 8523, dtype: int64"
      ]
     },
     "execution_count": 27,
     "metadata": {},
     "output_type": "execute_result"
    }
   ],
   "source": [
    "# the new feature tell us how old is the outlet\n",
    "clean_data['outlet_years'] = 2013 - clean_data['outlet_establishment_year']\n",
    "clean_data['outlet_years']"
   ]
  },
  {
   "cell_type": "markdown",
   "id": "aff0fc2f",
   "metadata": {},
   "source": [
    "## Analyze And Visualize The Data"
   ]
  },
  {
   "cell_type": "code",
   "execution_count": 29,
   "id": "6aa54460",
   "metadata": {},
   "outputs": [
    {
     "data": {
      "text/html": [
       "<div>\n",
       "<style scoped>\n",
       "    .dataframe tbody tr th:only-of-type {\n",
       "        vertical-align: middle;\n",
       "    }\n",
       "\n",
       "    .dataframe tbody tr th {\n",
       "        vertical-align: top;\n",
       "    }\n",
       "\n",
       "    .dataframe thead th {\n",
       "        text-align: right;\n",
       "    }\n",
       "</style>\n",
       "<table border=\"1\" class=\"dataframe\">\n",
       "  <thead>\n",
       "    <tr style=\"text-align: right;\">\n",
       "      <th></th>\n",
       "      <th>item_identifier</th>\n",
       "      <th>item_weight</th>\n",
       "      <th>item_fat_content</th>\n",
       "      <th>item_visibility</th>\n",
       "      <th>item_type</th>\n",
       "      <th>item_mrp</th>\n",
       "      <th>outlet_identifier</th>\n",
       "      <th>outlet_establishment_year</th>\n",
       "      <th>outlet_size</th>\n",
       "      <th>outlet_location_type</th>\n",
       "      <th>outlet_type</th>\n",
       "      <th>item_outlet_sales</th>\n",
       "      <th>item_category</th>\n",
       "      <th>outlet_years</th>\n",
       "    </tr>\n",
       "  </thead>\n",
       "  <tbody>\n",
       "    <tr>\n",
       "      <th>0</th>\n",
       "      <td>FDA15</td>\n",
       "      <td>9.30</td>\n",
       "      <td>Low Fat</td>\n",
       "      <td>0.016047</td>\n",
       "      <td>Dairy</td>\n",
       "      <td>249.8092</td>\n",
       "      <td>OUT049</td>\n",
       "      <td>1999</td>\n",
       "      <td>Medium</td>\n",
       "      <td>Tier 1</td>\n",
       "      <td>Supermarket Type1</td>\n",
       "      <td>3735.1380</td>\n",
       "      <td>Food</td>\n",
       "      <td>14</td>\n",
       "    </tr>\n",
       "    <tr>\n",
       "      <th>1</th>\n",
       "      <td>DRC01</td>\n",
       "      <td>5.92</td>\n",
       "      <td>Regular</td>\n",
       "      <td>0.019278</td>\n",
       "      <td>Soft Drinks</td>\n",
       "      <td>48.2692</td>\n",
       "      <td>OUT018</td>\n",
       "      <td>2009</td>\n",
       "      <td>Medium</td>\n",
       "      <td>Tier 3</td>\n",
       "      <td>Supermarket Type2</td>\n",
       "      <td>443.4228</td>\n",
       "      <td>Drink</td>\n",
       "      <td>4</td>\n",
       "    </tr>\n",
       "    <tr>\n",
       "      <th>2</th>\n",
       "      <td>FDN15</td>\n",
       "      <td>17.50</td>\n",
       "      <td>Low Fat</td>\n",
       "      <td>0.016760</td>\n",
       "      <td>Meat</td>\n",
       "      <td>141.6180</td>\n",
       "      <td>OUT049</td>\n",
       "      <td>1999</td>\n",
       "      <td>Medium</td>\n",
       "      <td>Tier 1</td>\n",
       "      <td>Supermarket Type1</td>\n",
       "      <td>2097.2700</td>\n",
       "      <td>Food</td>\n",
       "      <td>14</td>\n",
       "    </tr>\n",
       "    <tr>\n",
       "      <th>3</th>\n",
       "      <td>FDX07</td>\n",
       "      <td>19.20</td>\n",
       "      <td>Regular</td>\n",
       "      <td>0.066132</td>\n",
       "      <td>Fruits and Vegetables</td>\n",
       "      <td>182.0950</td>\n",
       "      <td>OUT010</td>\n",
       "      <td>1998</td>\n",
       "      <td>Small</td>\n",
       "      <td>Tier 3</td>\n",
       "      <td>Grocery Store</td>\n",
       "      <td>732.3800</td>\n",
       "      <td>Food</td>\n",
       "      <td>15</td>\n",
       "    </tr>\n",
       "    <tr>\n",
       "      <th>4</th>\n",
       "      <td>NCD19</td>\n",
       "      <td>8.93</td>\n",
       "      <td>No Edible</td>\n",
       "      <td>0.066132</td>\n",
       "      <td>Household</td>\n",
       "      <td>53.8614</td>\n",
       "      <td>OUT013</td>\n",
       "      <td>1987</td>\n",
       "      <td>High</td>\n",
       "      <td>Tier 3</td>\n",
       "      <td>Supermarket Type1</td>\n",
       "      <td>994.7052</td>\n",
       "      <td>Non-Consumable</td>\n",
       "      <td>26</td>\n",
       "    </tr>\n",
       "  </tbody>\n",
       "</table>\n",
       "</div>"
      ],
      "text/plain": [
       "  item_identifier  item_weight item_fat_content  item_visibility  \\\n",
       "0           FDA15         9.30          Low Fat         0.016047   \n",
       "1           DRC01         5.92          Regular         0.019278   \n",
       "2           FDN15        17.50          Low Fat         0.016760   \n",
       "3           FDX07        19.20          Regular         0.066132   \n",
       "4           NCD19         8.93        No Edible         0.066132   \n",
       "\n",
       "               item_type  item_mrp outlet_identifier  \\\n",
       "0                  Dairy  249.8092            OUT049   \n",
       "1            Soft Drinks   48.2692            OUT018   \n",
       "2                   Meat  141.6180            OUT049   \n",
       "3  Fruits and Vegetables  182.0950            OUT010   \n",
       "4              Household   53.8614            OUT013   \n",
       "\n",
       "   outlet_establishment_year outlet_size outlet_location_type  \\\n",
       "0                       1999      Medium               Tier 1   \n",
       "1                       2009      Medium               Tier 3   \n",
       "2                       1999      Medium               Tier 1   \n",
       "3                       1998       Small               Tier 3   \n",
       "4                       1987        High               Tier 3   \n",
       "\n",
       "         outlet_type  item_outlet_sales   item_category  outlet_years  \n",
       "0  Supermarket Type1          3735.1380            Food            14  \n",
       "1  Supermarket Type2           443.4228           Drink             4  \n",
       "2  Supermarket Type1          2097.2700            Food            14  \n",
       "3      Grocery Store           732.3800            Food            15  \n",
       "4  Supermarket Type1           994.7052  Non-Consumable            26  "
      ]
     },
     "execution_count": 29,
     "metadata": {},
     "output_type": "execute_result"
    }
   ],
   "source": [
    "# how the data looks like\n",
    "clean_data.head()"
   ]
  },
  {
   "cell_type": "markdown",
   "id": "05c1be22",
   "metadata": {},
   "source": [
    "## Plot categorical features"
   ]
  },
  {
   "cell_type": "code",
   "execution_count": 30,
   "id": "88cc86c5",
   "metadata": {},
   "outputs": [
    {
     "data": {
      "image/png": "[encoded data removed]",
      "text/plain": [
       "<Figure size 500x500 with 1 Axes>"
      ]
     },
     "metadata": {},
     "output_type": "display_data"
    }
   ],
   "source": [
    "# plot item_fat_content\n",
    "plt.figure(figsize=(5,5))\n",
    "sns.countplot(x='item_fat_content', data=clean_data)\n",
    "plt.show()"
   ]
  },
  {
   "cell_type": "code",
   "execution_count": 31,
   "id": "4a87499e",
   "metadata": {},
   "outputs": [
    {
     "data": {
      "text/plain": [
       "[Text(0, 0, 'Dairy'),\n",
       " Text(1, 0, 'Soft Drinks'),\n",
       " Text(2, 0, 'Meat'),\n",
       " Text(3, 0, 'Fruits and Vegetables'),\n",
       " Text(4, 0, 'Household'),\n",
       " Text(5, 0, 'Baking Goods'),\n",
       " Text(6, 0, 'Snack Foods'),\n",
       " Text(7, 0, 'Frozen Foods'),\n",
       " Text(8, 0, 'Breakfast'),\n",
       " Text(9, 0, 'Health and Hygiene'),\n",
       " Text(10, 0, 'Hard Drinks'),\n",
       " Text(11, 0, 'Canned'),\n",
       " Text(12, 0, 'Breads'),\n",
       " Text(13, 0, 'Starchy Foods'),\n",
       " Text(14, 0, 'Others'),\n",
       " Text(15, 0, 'Seafood')]"
      ]
     },
     "execution_count": 31,
     "metadata": {},
     "output_type": "execute_result"
    },
    {
     "data": {
      "image/png": "[encoded data removed]",
      "text/plain": [
       "<Figure size 640x480 with 1 Axes>"
      ]
     },
     "metadata": {},
     "output_type": "display_data"
    }
   ],
   "source": [
    "# plot item_type\n",
    "labels = list(clean_data['item_type'].unique())\n",
    "chart = sns.countplot(x=clean_data['item_type'])\n",
    "chart.set_xticklabels(labels=labels, rotation=90)"
   ]
  },
  {
   "cell_type": "code",
   "execution_count": 32,
   "id": "27bbd953",
   "metadata": {},
   "outputs": [
    {
     "data": {
      "text/plain": [
       "[Text(0, 0, 'OUT049'),\n",
       " Text(1, 0, 'OUT018'),\n",
       " Text(2, 0, 'OUT010'),\n",
       " Text(3, 0, 'OUT013'),\n",
       " Text(4, 0, 'OUT027'),\n",
       " Text(5, 0, 'OUT045'),\n",
       " Text(6, 0, 'OUT017'),\n",
       " Text(7, 0, 'OUT046'),\n",
       " Text(8, 0, 'OUT035'),\n",
       " Text(9, 0, 'OUT019')]"
      ]
     },
     "execution_count": 32,
     "metadata": {},
     "output_type": "execute_result"
    },
    {
     "data": {
      "image/png": "[encoded data removed]",
      "text/plain": [
       "<Figure size 640x480 with 1 Axes>"
      ]
     },
     "metadata": {},
     "output_type": "display_data"
    }
   ],
   "source": [
    "# plot outlet_identifier\n",
    "labels = list(clean_data['outlet_identifier'].unique())\n",
    "chart = sns.countplot(x=clean_data['outlet_identifier'])\n",
    "chart.set_xticklabels(labels=labels, rotation=90)"
   ]
  },
  {
   "cell_type": "code",
   "execution_count": 33,
   "id": "2a7a7a89",
   "metadata": {},
   "outputs": [
    {
     "data": {
      "image/png": "[encoded data removed]",
      "text/plain": [
       "<Figure size 500x500 with 1 Axes>"
      ]
     },
     "metadata": {},
     "output_type": "display_data"
    }
   ],
   "source": [
    "# plot outlet_size\n",
    "plt.figure(figsize=(5,5))\n",
    "sns.countplot(x='outlet_size', data=clean_data)\n",
    "plt.show()"
   ]
  },
  {
   "cell_type": "code",
   "execution_count": 34,
   "id": "0be951d6",
   "metadata": {},
   "outputs": [
    {
     "data": {
      "image/png": "[encoded data removed]",
      "text/plain": [
       "<Figure size 500x500 with 1 Axes>"
      ]
     },
     "metadata": {},
     "output_type": "display_data"
    }
   ],
   "source": [
    "# plot outlet_location_type\n",
    "plt.figure(figsize=(5,5))\n",
    "sns.countplot(x='outlet_location_type', data=clean_data)\n",
    "plt.show()"
   ]
  },
  {
   "cell_type": "code",
   "execution_count": 35,
   "id": "bb7dd1bb",
   "metadata": {},
   "outputs": [
    {
     "data": {
      "image/png": "[encoded data removed]",
      "text/plain": [
       "<Figure size 500x500 with 1 Axes>"
      ]
     },
     "metadata": {},
     "output_type": "display_data"
    }
   ],
   "source": [
    "# plot item_category\n",
    "plt.figure(figsize=(5,5))\n",
    "sns.countplot(x='item_category', data=clean_data)\n",
    "plt.show()"
   ]
  },
  {
   "cell_type": "markdown",
   "id": "f6b85bc5",
   "metadata": {},
   "source": [
    "## Plot data data distribution"
   ]
  },
  {
   "cell_type": "code",
   "execution_count": 36,
   "id": "6afcf332",
   "metadata": {},
   "outputs": [
    {
     "data": {
      "text/plain": [
       "array([[<AxesSubplot:title={'center':'item_weight'}>,\n",
       "        <AxesSubplot:title={'center':'item_visibility'}>],\n",
       "       [<AxesSubplot:title={'center':'item_mrp'}>,\n",
       "        <AxesSubplot:title={'center':'outlet_establishment_year'}>],\n",
       "       [<AxesSubplot:title={'center':'item_outlet_sales'}>,\n",
       "        <AxesSubplot:title={'center':'outlet_years'}>]], dtype=object)"
      ]
     },
     "execution_count": 36,
     "metadata": {},
     "output_type": "execute_result"
    },
    {
     "data": {
      "image/png": "[encoded data removed]",
      "text/plain": [
       "<Figure size 1200x800 with 6 Axes>"
      ]
     },
     "metadata": {},
     "output_type": "display_data"
    }
   ],
   "source": [
    "# data distribution of numerical values\n",
    "clean_data.hist(figsize=(12,8))"
   ]
  },
  {
   "cell_type": "code",
   "execution_count": 37,
   "id": "d9b74c49",
   "metadata": {},
   "outputs": [
    {
     "data": {
      "image/png": "[encoded data removed]",
      "text/plain": [
       "<Figure size 600x600 with 1 Axes>"
      ]
     },
     "metadata": {},
     "output_type": "display_data"
    }
   ],
   "source": [
    "# outlet_establishment_year column count\n",
    "plt.figure(figsize=(6,6))\n",
    "sns.countplot(x='outlet_establishment_year', data=clean_data)\n",
    "plt.show()"
   ]
  },
  {
   "cell_type": "code",
   "execution_count": 38,
   "id": "2f2161ea",
   "metadata": {},
   "outputs": [
    {
     "data": {
      "image/png": "[encoded data removed]",
      "text/plain": [
       "<Figure size 600x600 with 1 Axes>"
      ]
     },
     "metadata": {},
     "output_type": "display_data"
    }
   ],
   "source": [
    "# outlet_years column count\n",
    "plt.figure(figsize=(6,6))\n",
    "sns.countplot(x='outlet_years', data=clean_data)\n",
    "plt.show()"
   ]
  },
  {
   "cell_type": "code",
   "execution_count": 39,
   "id": "c51ae0c0",
   "metadata": {},
   "outputs": [
    {
     "data": {
      "text/plain": [
       "item_outlet_sales            1.000000\n",
       "item_mrp                     0.567574\n",
       "outlet_years                 0.049135\n",
       "item_weight                  0.011550\n",
       "outlet_establishment_year   -0.049135\n",
       "item_visibility             -0.134138\n",
       "Name: item_outlet_sales, dtype: float64"
      ]
     },
     "execution_count": 39,
     "metadata": {},
     "output_type": "execute_result"
    }
   ],
   "source": [
    "# correlation with the target column\n",
    "corr_matrix = clean_data.corr()\n",
    "corr_matrix['item_outlet_sales'].sort_values(ascending=False)"
   ]
  },
  {
   "cell_type": "code",
   "execution_count": 40,
   "id": "c0e2dfe1",
   "metadata": {},
   "outputs": [
    {
     "data": {
      "text/plain": [
       "<AxesSubplot:>"
      ]
     },
     "execution_count": 40,
     "metadata": {},
     "output_type": "execute_result"
    },
    {
     "data": {
      "image/png": "[encoded data removed]",
      "text/plain": [
       "<Figure size 640x480 with 2 Axes>"
      ]
     },
     "metadata": {},
     "output_type": "display_data"
    }
   ],
   "source": [
    "# plot correlations\n",
    "sns.heatmap(corr_matrix, annot=True, cmap='coolwarm')"
   ]
  },
  {
   "cell_type": "code",
   "execution_count": 41,
   "id": "308085c1",
   "metadata": {},
   "outputs": [
    {
     "data": {
      "text/plain": [
       "<AxesSubplot:xlabel='item_mrp', ylabel='item_outlet_sales'>"
      ]
     },
     "execution_count": 41,
     "metadata": {},
     "output_type": "execute_result"
    },
    {
     "data": {
      "image/png": "[encoded data removed]",
      "text/plain": [
       "<Figure size 640x480 with 1 Axes>"
      ]
     },
     "metadata": {},
     "output_type": "display_data"
    }
   ],
   "source": [
    "# scatter plot of item_mrp and item_outlet_sales\n",
    "sns.scatterplot(data=clean_data, x='item_mrp', y='item_outlet_sales')"
   ]
  },
  {
   "cell_type": "markdown",
   "id": "79f1004e",
   "metadata": {},
   "source": [
    "Notes:\n",
    "* The data present some minor changes based on what was done in the previous step.\n",
    "* Some of the categorical features are not well distributed, the model can present some bias toward the most repetitive ones.\n",
    "* There is not a clear correlation with the numerical features, 'item_mrp' seems to be the most essential feature to estimate the 'item_outlet_sales'."
   ]
  },
  {
   "cell_type": "markdown",
   "id": "72374d7e",
   "metadata": {},
   "source": [
    "## Data Pre-processing."
   ]
  },
  {
   "cell_type": "code",
   "execution_count": 42,
   "id": "c57276f1",
   "metadata": {},
   "outputs": [
    {
     "data": {
      "text/html": [
       "<div>\n",
       "<style scoped>\n",
       "    .dataframe tbody tr th:only-of-type {\n",
       "        vertical-align: middle;\n",
       "    }\n",
       "\n",
       "    .dataframe tbody tr th {\n",
       "        vertical-align: top;\n",
       "    }\n",
       "\n",
       "    .dataframe thead th {\n",
       "        text-align: right;\n",
       "    }\n",
       "</style>\n",
       "<table border=\"1\" class=\"dataframe\">\n",
       "  <thead>\n",
       "    <tr style=\"text-align: right;\">\n",
       "      <th></th>\n",
       "      <th>item_identifier</th>\n",
       "      <th>item_weight</th>\n",
       "      <th>item_fat_content</th>\n",
       "      <th>item_visibility</th>\n",
       "      <th>item_type</th>\n",
       "      <th>item_mrp</th>\n",
       "      <th>outlet_identifier</th>\n",
       "      <th>outlet_establishment_year</th>\n",
       "      <th>outlet_size</th>\n",
       "      <th>outlet_location_type</th>\n",
       "      <th>outlet_type</th>\n",
       "      <th>item_outlet_sales</th>\n",
       "      <th>item_category</th>\n",
       "      <th>outlet_years</th>\n",
       "    </tr>\n",
       "  </thead>\n",
       "  <tbody>\n",
       "    <tr>\n",
       "      <th>0</th>\n",
       "      <td>FDA15</td>\n",
       "      <td>9.30</td>\n",
       "      <td>Low Fat</td>\n",
       "      <td>0.016047</td>\n",
       "      <td>Dairy</td>\n",
       "      <td>249.8092</td>\n",
       "      <td>OUT049</td>\n",
       "      <td>1999</td>\n",
       "      <td>Medium</td>\n",
       "      <td>Tier 1</td>\n",
       "      <td>Supermarket Type1</td>\n",
       "      <td>3735.1380</td>\n",
       "      <td>Food</td>\n",
       "      <td>14</td>\n",
       "    </tr>\n",
       "    <tr>\n",
       "      <th>1</th>\n",
       "      <td>DRC01</td>\n",
       "      <td>5.92</td>\n",
       "      <td>Regular</td>\n",
       "      <td>0.019278</td>\n",
       "      <td>Soft Drinks</td>\n",
       "      <td>48.2692</td>\n",
       "      <td>OUT018</td>\n",
       "      <td>2009</td>\n",
       "      <td>Medium</td>\n",
       "      <td>Tier 3</td>\n",
       "      <td>Supermarket Type2</td>\n",
       "      <td>443.4228</td>\n",
       "      <td>Drink</td>\n",
       "      <td>4</td>\n",
       "    </tr>\n",
       "    <tr>\n",
       "      <th>2</th>\n",
       "      <td>FDN15</td>\n",
       "      <td>17.50</td>\n",
       "      <td>Low Fat</td>\n",
       "      <td>0.016760</td>\n",
       "      <td>Meat</td>\n",
       "      <td>141.6180</td>\n",
       "      <td>OUT049</td>\n",
       "      <td>1999</td>\n",
       "      <td>Medium</td>\n",
       "      <td>Tier 1</td>\n",
       "      <td>Supermarket Type1</td>\n",
       "      <td>2097.2700</td>\n",
       "      <td>Food</td>\n",
       "      <td>14</td>\n",
       "    </tr>\n",
       "    <tr>\n",
       "      <th>3</th>\n",
       "      <td>FDX07</td>\n",
       "      <td>19.20</td>\n",
       "      <td>Regular</td>\n",
       "      <td>0.066132</td>\n",
       "      <td>Fruits and Vegetables</td>\n",
       "      <td>182.0950</td>\n",
       "      <td>OUT010</td>\n",
       "      <td>1998</td>\n",
       "      <td>Small</td>\n",
       "      <td>Tier 3</td>\n",
       "      <td>Grocery Store</td>\n",
       "      <td>732.3800</td>\n",
       "      <td>Food</td>\n",
       "      <td>15</td>\n",
       "    </tr>\n",
       "    <tr>\n",
       "      <th>4</th>\n",
       "      <td>NCD19</td>\n",
       "      <td>8.93</td>\n",
       "      <td>No Edible</td>\n",
       "      <td>0.066132</td>\n",
       "      <td>Household</td>\n",
       "      <td>53.8614</td>\n",
       "      <td>OUT013</td>\n",
       "      <td>1987</td>\n",
       "      <td>High</td>\n",
       "      <td>Tier 3</td>\n",
       "      <td>Supermarket Type1</td>\n",
       "      <td>994.7052</td>\n",
       "      <td>Non-Consumable</td>\n",
       "      <td>26</td>\n",
       "    </tr>\n",
       "  </tbody>\n",
       "</table>\n",
       "</div>"
      ],
      "text/plain": [
       "  item_identifier  item_weight item_fat_content  item_visibility  \\\n",
       "0           FDA15         9.30          Low Fat         0.016047   \n",
       "1           DRC01         5.92          Regular         0.019278   \n",
       "2           FDN15        17.50          Low Fat         0.016760   \n",
       "3           FDX07        19.20          Regular         0.066132   \n",
       "4           NCD19         8.93        No Edible         0.066132   \n",
       "\n",
       "               item_type  item_mrp outlet_identifier  \\\n",
       "0                  Dairy  249.8092            OUT049   \n",
       "1            Soft Drinks   48.2692            OUT018   \n",
       "2                   Meat  141.6180            OUT049   \n",
       "3  Fruits and Vegetables  182.0950            OUT010   \n",
       "4              Household   53.8614            OUT013   \n",
       "\n",
       "   outlet_establishment_year outlet_size outlet_location_type  \\\n",
       "0                       1999      Medium               Tier 1   \n",
       "1                       2009      Medium               Tier 3   \n",
       "2                       1999      Medium               Tier 1   \n",
       "3                       1998       Small               Tier 3   \n",
       "4                       1987        High               Tier 3   \n",
       "\n",
       "         outlet_type  item_outlet_sales   item_category  outlet_years  \n",
       "0  Supermarket Type1          3735.1380            Food            14  \n",
       "1  Supermarket Type2           443.4228           Drink             4  \n",
       "2  Supermarket Type1          2097.2700            Food            14  \n",
       "3      Grocery Store           732.3800            Food            15  \n",
       "4  Supermarket Type1           994.7052  Non-Consumable            26  "
      ]
     },
     "execution_count": 42,
     "metadata": {},
     "output_type": "execute_result"
    }
   ],
   "source": [
    "# how the data looks like\n",
    "clean_data.head()"
   ]
  },
  {
   "cell_type": "code",
   "execution_count": 43,
   "id": "5d3092a0",
   "metadata": {},
   "outputs": [],
   "source": [
    "# applying label encoding to some features\n",
    "encoder = LabelEncoder()\n",
    "\n",
    "cols_to_encode = ['item_identifier', 'item_type', 'outlet_identifier']\n",
    "\n",
    "for col in cols_to_encode:\n",
    "    clean_data[col] = encoder.fit_transform(clean_data[col])"
   ]
  },
  {
   "cell_type": "code",
   "execution_count": 44,
   "id": "c95bf5f7",
   "metadata": {},
   "outputs": [],
   "source": [
    "# applying one-hot encoding to some features\n",
    "clean_data = pd.get_dummies(clean_data, columns=['item_fat_content', 'outlet_size', 'outlet_location_type', 'outlet_type', 'item_category'])"
   ]
  },
  {
   "cell_type": "code",
   "execution_count": 45,
   "id": "4b47c0f4",
   "metadata": {},
   "outputs": [
    {
     "data": {
      "text/html": [
       "<div>\n",
       "<style scoped>\n",
       "    .dataframe tbody tr th:only-of-type {\n",
       "        vertical-align: middle;\n",
       "    }\n",
       "\n",
       "    .dataframe tbody tr th {\n",
       "        vertical-align: top;\n",
       "    }\n",
       "\n",
       "    .dataframe thead th {\n",
       "        text-align: right;\n",
       "    }\n",
       "</style>\n",
       "<table border=\"1\" class=\"dataframe\">\n",
       "  <thead>\n",
       "    <tr style=\"text-align: right;\">\n",
       "      <th></th>\n",
       "      <th>item_identifier</th>\n",
       "      <th>item_weight</th>\n",
       "      <th>item_visibility</th>\n",
       "      <th>item_type</th>\n",
       "      <th>item_mrp</th>\n",
       "      <th>outlet_identifier</th>\n",
       "      <th>outlet_establishment_year</th>\n",
       "      <th>item_outlet_sales</th>\n",
       "      <th>outlet_years</th>\n",
       "      <th>item_fat_content_Low Fat</th>\n",
       "      <th>...</th>\n",
       "      <th>outlet_location_type_Tier 1</th>\n",
       "      <th>outlet_location_type_Tier 2</th>\n",
       "      <th>outlet_location_type_Tier 3</th>\n",
       "      <th>outlet_type_Grocery Store</th>\n",
       "      <th>outlet_type_Supermarket Type1</th>\n",
       "      <th>outlet_type_Supermarket Type2</th>\n",
       "      <th>outlet_type_Supermarket Type3</th>\n",
       "      <th>item_category_Drink</th>\n",
       "      <th>item_category_Food</th>\n",
       "      <th>item_category_Non-Consumable</th>\n",
       "    </tr>\n",
       "  </thead>\n",
       "  <tbody>\n",
       "    <tr>\n",
       "      <th>0</th>\n",
       "      <td>156</td>\n",
       "      <td>9.30</td>\n",
       "      <td>0.016047</td>\n",
       "      <td>4</td>\n",
       "      <td>249.8092</td>\n",
       "      <td>9</td>\n",
       "      <td>1999</td>\n",
       "      <td>3735.1380</td>\n",
       "      <td>14</td>\n",
       "      <td>1</td>\n",
       "      <td>...</td>\n",
       "      <td>1</td>\n",
       "      <td>0</td>\n",
       "      <td>0</td>\n",
       "      <td>0</td>\n",
       "      <td>1</td>\n",
       "      <td>0</td>\n",
       "      <td>0</td>\n",
       "      <td>0</td>\n",
       "      <td>1</td>\n",
       "      <td>0</td>\n",
       "    </tr>\n",
       "    <tr>\n",
       "      <th>1</th>\n",
       "      <td>8</td>\n",
       "      <td>5.92</td>\n",
       "      <td>0.019278</td>\n",
       "      <td>14</td>\n",
       "      <td>48.2692</td>\n",
       "      <td>3</td>\n",
       "      <td>2009</td>\n",
       "      <td>443.4228</td>\n",
       "      <td>4</td>\n",
       "      <td>0</td>\n",
       "      <td>...</td>\n",
       "      <td>0</td>\n",
       "      <td>0</td>\n",
       "      <td>1</td>\n",
       "      <td>0</td>\n",
       "      <td>0</td>\n",
       "      <td>1</td>\n",
       "      <td>0</td>\n",
       "      <td>1</td>\n",
       "      <td>0</td>\n",
       "      <td>0</td>\n",
       "    </tr>\n",
       "    <tr>\n",
       "      <th>2</th>\n",
       "      <td>662</td>\n",
       "      <td>17.50</td>\n",
       "      <td>0.016760</td>\n",
       "      <td>10</td>\n",
       "      <td>141.6180</td>\n",
       "      <td>9</td>\n",
       "      <td>1999</td>\n",
       "      <td>2097.2700</td>\n",
       "      <td>14</td>\n",
       "      <td>1</td>\n",
       "      <td>...</td>\n",
       "      <td>1</td>\n",
       "      <td>0</td>\n",
       "      <td>0</td>\n",
       "      <td>0</td>\n",
       "      <td>1</td>\n",
       "      <td>0</td>\n",
       "      <td>0</td>\n",
       "      <td>0</td>\n",
       "      <td>1</td>\n",
       "      <td>0</td>\n",
       "    </tr>\n",
       "    <tr>\n",
       "      <th>3</th>\n",
       "      <td>1121</td>\n",
       "      <td>19.20</td>\n",
       "      <td>0.066132</td>\n",
       "      <td>6</td>\n",
       "      <td>182.0950</td>\n",
       "      <td>0</td>\n",
       "      <td>1998</td>\n",
       "      <td>732.3800</td>\n",
       "      <td>15</td>\n",
       "      <td>0</td>\n",
       "      <td>...</td>\n",
       "      <td>0</td>\n",
       "      <td>0</td>\n",
       "      <td>1</td>\n",
       "      <td>1</td>\n",
       "      <td>0</td>\n",
       "      <td>0</td>\n",
       "      <td>0</td>\n",
       "      <td>0</td>\n",
       "      <td>1</td>\n",
       "      <td>0</td>\n",
       "    </tr>\n",
       "    <tr>\n",
       "      <th>4</th>\n",
       "      <td>1297</td>\n",
       "      <td>8.93</td>\n",
       "      <td>0.066132</td>\n",
       "      <td>9</td>\n",
       "      <td>53.8614</td>\n",
       "      <td>1</td>\n",
       "      <td>1987</td>\n",
       "      <td>994.7052</td>\n",
       "      <td>26</td>\n",
       "      <td>0</td>\n",
       "      <td>...</td>\n",
       "      <td>0</td>\n",
       "      <td>0</td>\n",
       "      <td>1</td>\n",
       "      <td>0</td>\n",
       "      <td>1</td>\n",
       "      <td>0</td>\n",
       "      <td>0</td>\n",
       "      <td>0</td>\n",
       "      <td>0</td>\n",
       "      <td>1</td>\n",
       "    </tr>\n",
       "  </tbody>\n",
       "</table>\n",
       "<p>5 rows × 25 columns</p>\n",
       "</div>"
      ],
      "text/plain": [
       "   item_identifier  item_weight  item_visibility  item_type  item_mrp  \\\n",
       "0              156         9.30         0.016047          4  249.8092   \n",
       "1                8         5.92         0.019278         14   48.2692   \n",
       "2              662        17.50         0.016760         10  141.6180   \n",
       "3             1121        19.20         0.066132          6  182.0950   \n",
       "4             1297         8.93         0.066132          9   53.8614   \n",
       "\n",
       "   outlet_identifier  outlet_establishment_year  item_outlet_sales  \\\n",
       "0                  9                       1999          3735.1380   \n",
       "1                  3                       2009           443.4228   \n",
       "2                  9                       1999          2097.2700   \n",
       "3                  0                       1998           732.3800   \n",
       "4                  1                       1987           994.7052   \n",
       "\n",
       "   outlet_years  item_fat_content_Low Fat  ...  outlet_location_type_Tier 1  \\\n",
       "0            14                         1  ...                            1   \n",
       "1             4                         0  ...                            0   \n",
       "2            14                         1  ...                            1   \n",
       "3            15                         0  ...                            0   \n",
       "4            26                         0  ...                            0   \n",
       "\n",
       "   outlet_location_type_Tier 2  outlet_location_type_Tier 3  \\\n",
       "0                            0                            0   \n",
       "1                            0                            1   \n",
       "2                            0                            0   \n",
       "3                            0                            1   \n",
       "4                            0                            1   \n",
       "\n",
       "   outlet_type_Grocery Store  outlet_type_Supermarket Type1  \\\n",
       "0                          0                              1   \n",
       "1                          0                              0   \n",
       "2                          0                              1   \n",
       "3                          1                              0   \n",
       "4                          0                              1   \n",
       "\n",
       "   outlet_type_Supermarket Type2  outlet_type_Supermarket Type3  \\\n",
       "0                              0                              0   \n",
       "1                              1                              0   \n",
       "2                              0                              0   \n",
       "3                              0                              0   \n",
       "4                              0                              0   \n",
       "\n",
       "   item_category_Drink  item_category_Food  item_category_Non-Consumable  \n",
       "0                    0                   1                             0  \n",
       "1                    1                   0                             0  \n",
       "2                    0                   1                             0  \n",
       "3                    0                   1                             0  \n",
       "4                    0                   0                             1  \n",
       "\n",
       "[5 rows x 25 columns]"
      ]
     },
     "execution_count": 45,
     "metadata": {},
     "output_type": "execute_result"
    }
   ],
   "source": [
    "# how the data looks like\n",
    "clean_data.head()"
   ]
  },
  {
   "cell_type": "markdown",
   "id": "038355db",
   "metadata": {},
   "source": [
    "## Defining The Input Data"
   ]
  },
  {
   "cell_type": "code",
   "execution_count": 46,
   "id": "f5f10292",
   "metadata": {},
   "outputs": [],
   "source": [
    "# setting model input and target variables\n",
    "X = clean_data.drop(columns=['outlet_establishment_year', 'item_outlet_sales'])\n",
    "y = clean_data['item_outlet_sales']"
   ]
  },
  {
   "cell_type": "markdown",
   "id": "3c13b502",
   "metadata": {},
   "source": [
    "## Exploring Different Models"
   ]
  },
  {
   "cell_type": "code",
   "execution_count": 47,
   "id": "7e26d8d6",
   "metadata": {},
   "outputs": [],
   "source": [
    "# df to store model error and scores\n",
    "model_scores = pd.DataFrame(columns=['model', 'rmse', 'r2_score'])"
   ]
  },
  {
   "cell_type": "code",
   "execution_count": 48,
   "id": "03eedd93",
   "metadata": {},
   "outputs": [],
   "source": [
    "def train_and_evaluate_model(model_name, model, X, y):\n",
    "    '''\n",
    "    Create a training pipeline to scale and train the model\n",
    "    using the input data, then evaluate the model and safe its error\n",
    "    and score in the scores dataframe.\n",
    "    '''\n",
    "    # split the data\n",
    "    X_train, X_validate, y_train, y_validate = train_test_split(X, y, test_size=0.2, random_state=42)\n",
    "    \n",
    "    # create a training pipeline\n",
    "    pipeline = make_pipeline(StandardScaler(), model)\n",
    "    \n",
    "    # apply scaling on training data and train the model\n",
    "    pipeline.fit(X_train, y_train)\n",
    "    \n",
    "    # predict the validation set\n",
    "    y_hat = pipeline.predict(X_validate)\n",
    "    \n",
    "    # evaluate the model\n",
    "    rmse = np.sqrt(mean_squared_error(y_validate, y_hat))\n",
    "    model_score = r2_score(y_validate, y_hat)\n",
    "    \n",
    "    # adding error and score, to the scores datafrane\n",
    "    model_scores.loc[len(model_scores)] = [model_name, rmse, model_score]\n",
    "    \n",
    "    print('----------------------------------')\n",
    "    print(model_name, ' Report:')\n",
    "    print('----------------------------------')\n",
    "    print('RMSE: ', rmse)\n",
    "    print('R2 Score: ', model_score)"
   ]
  },
  {
   "cell_type": "markdown",
   "id": "d11883ef",
   "metadata": {},
   "source": [
    "## Linear Regression"
   ]
  },
  {
   "cell_type": "code",
   "execution_count": 50,
   "id": "8762cdb8",
   "metadata": {},
   "outputs": [
    {
     "name": "stdout",
     "output_type": "stream",
     "text": [
      "----------------------------------\n",
      "Linear Regression  Report:\n",
      "----------------------------------\n",
      "RMSE:  1067.2753973238077\n",
      "R2 Score:  0.5809090071582013\n"
     ]
    }
   ],
   "source": [
    "# linear regression\n",
    "linear_regression_model = LinearRegression()\n",
    "train_and_evaluate_model('Linear Regression', linear_regression_model, X, y)"
   ]
  },
  {
   "cell_type": "markdown",
   "id": "f84943f7",
   "metadata": {},
   "source": [
    "## Testing The Chosen Model"
   ]
  },
  {
   "cell_type": "markdown",
   "id": "dc566620",
   "metadata": {},
   "source": [
    "To test the model, article with id FDW58 was chosen, using the machine learning model, it will be estimated in which of the different outlets the article will generate the greatest number of sales."
   ]
  },
  {
   "cell_type": "markdown",
   "id": "7e9bc73c",
   "metadata": {},
   "source": [
    "## Train the model with all the training data"
   ]
  },
  {
   "cell_type": "code",
   "execution_count": 51,
   "id": "21388d50",
   "metadata": {},
   "outputs": [
    {
     "data": {
      "text/plain": [
       "Pipeline(steps=[('standardscaler', StandardScaler()),\n",
       "                ('linearregression', LinearRegression())])"
      ]
     },
     "execution_count": 51,
     "metadata": {},
     "output_type": "execute_result"
    }
   ],
   "source": [
    "# train a Linear Regression model with all the data\n",
    "model_pipeline = make_pipeline(StandardScaler(), LinearRegression())\n",
    "model_pipeline.fit(X, y)"
   ]
  },
  {
   "cell_type": "markdown",
   "id": "e5b7e87c",
   "metadata": {},
   "source": [
    "## Reading and preparing the test data"
   ]
  },
  {
   "cell_type": "code",
   "execution_count": 53,
   "id": "7e1365e1",
   "metadata": {},
   "outputs": [
    {
     "data": {
      "text/html": [
       "<div>\n",
       "<style scoped>\n",
       "    .dataframe tbody tr th:only-of-type {\n",
       "        vertical-align: middle;\n",
       "    }\n",
       "\n",
       "    .dataframe tbody tr th {\n",
       "        vertical-align: top;\n",
       "    }\n",
       "\n",
       "    .dataframe thead th {\n",
       "        text-align: right;\n",
       "    }\n",
       "</style>\n",
       "<table border=\"1\" class=\"dataframe\">\n",
       "  <thead>\n",
       "    <tr style=\"text-align: right;\">\n",
       "      <th></th>\n",
       "      <th>Item_Identifier</th>\n",
       "      <th>Item_Weight</th>\n",
       "      <th>Item_Fat_Content</th>\n",
       "      <th>Item_Visibility</th>\n",
       "      <th>Item_Type</th>\n",
       "      <th>Item_MRP</th>\n",
       "      <th>Outlet_Identifier</th>\n",
       "      <th>Outlet_Establishment_Year</th>\n",
       "      <th>Outlet_Size</th>\n",
       "      <th>Outlet_Location_Type</th>\n",
       "      <th>Outlet_Type</th>\n",
       "    </tr>\n",
       "  </thead>\n",
       "  <tbody>\n",
       "    <tr>\n",
       "      <th>0</th>\n",
       "      <td>FDW58</td>\n",
       "      <td>20.75</td>\n",
       "      <td>Low Fat</td>\n",
       "      <td>0.007565</td>\n",
       "      <td>Snack Foods</td>\n",
       "      <td>107.8622</td>\n",
       "      <td>OUT049</td>\n",
       "      <td>1999</td>\n",
       "      <td>Medium</td>\n",
       "      <td>Tier 1</td>\n",
       "      <td>Supermarket Type1</td>\n",
       "    </tr>\n",
       "    <tr>\n",
       "      <th>253</th>\n",
       "      <td>FDW58</td>\n",
       "      <td>20.75</td>\n",
       "      <td>Low Fat</td>\n",
       "      <td>0.007596</td>\n",
       "      <td>Snack Foods</td>\n",
       "      <td>104.4622</td>\n",
       "      <td>OUT017</td>\n",
       "      <td>2007</td>\n",
       "      <td>NaN</td>\n",
       "      <td>Tier 2</td>\n",
       "      <td>Supermarket Type1</td>\n",
       "    </tr>\n",
       "    <tr>\n",
       "      <th>1625</th>\n",
       "      <td>FDW58</td>\n",
       "      <td>20.75</td>\n",
       "      <td>Low Fat</td>\n",
       "      <td>0.007584</td>\n",
       "      <td>Snack Foods</td>\n",
       "      <td>107.0622</td>\n",
       "      <td>OUT018</td>\n",
       "      <td>2009</td>\n",
       "      <td>Medium</td>\n",
       "      <td>Tier 3</td>\n",
       "      <td>Supermarket Type2</td>\n",
       "    </tr>\n",
       "    <tr>\n",
       "      <th>1892</th>\n",
       "      <td>FDW58</td>\n",
       "      <td>20.75</td>\n",
       "      <td>Low Fat</td>\n",
       "      <td>0.000000</td>\n",
       "      <td>Snack Foods</td>\n",
       "      <td>105.9622</td>\n",
       "      <td>OUT046</td>\n",
       "      <td>1997</td>\n",
       "      <td>Small</td>\n",
       "      <td>Tier 1</td>\n",
       "      <td>Supermarket Type1</td>\n",
       "    </tr>\n",
       "    <tr>\n",
       "      <th>2166</th>\n",
       "      <td>FDW58</td>\n",
       "      <td>20.75</td>\n",
       "      <td>Low Fat</td>\n",
       "      <td>0.007568</td>\n",
       "      <td>Snack Foods</td>\n",
       "      <td>105.8622</td>\n",
       "      <td>OUT045</td>\n",
       "      <td>2002</td>\n",
       "      <td>NaN</td>\n",
       "      <td>Tier 2</td>\n",
       "      <td>Supermarket Type1</td>\n",
       "    </tr>\n",
       "    <tr>\n",
       "      <th>2434</th>\n",
       "      <td>FDW58</td>\n",
       "      <td>NaN</td>\n",
       "      <td>Low Fat</td>\n",
       "      <td>0.007517</td>\n",
       "      <td>Snack Foods</td>\n",
       "      <td>107.6622</td>\n",
       "      <td>OUT027</td>\n",
       "      <td>1985</td>\n",
       "      <td>Medium</td>\n",
       "      <td>Tier 3</td>\n",
       "      <td>Supermarket Type3</td>\n",
       "    </tr>\n",
       "    <tr>\n",
       "      <th>2830</th>\n",
       "      <td>FDW58</td>\n",
       "      <td>NaN</td>\n",
       "      <td>Low Fat</td>\n",
       "      <td>0.013224</td>\n",
       "      <td>Snack Foods</td>\n",
       "      <td>106.4622</td>\n",
       "      <td>OUT019</td>\n",
       "      <td>1985</td>\n",
       "      <td>Small</td>\n",
       "      <td>Tier 1</td>\n",
       "      <td>Grocery Store</td>\n",
       "    </tr>\n",
       "  </tbody>\n",
       "</table>\n",
       "</div>"
      ],
      "text/plain": [
       "     Item_Identifier  Item_Weight Item_Fat_Content  Item_Visibility  \\\n",
       "0              FDW58        20.75          Low Fat         0.007565   \n",
       "253            FDW58        20.75          Low Fat         0.007596   \n",
       "1625           FDW58        20.75          Low Fat         0.007584   \n",
       "1892           FDW58        20.75          Low Fat         0.000000   \n",
       "2166           FDW58        20.75          Low Fat         0.007568   \n",
       "2434           FDW58          NaN          Low Fat         0.007517   \n",
       "2830           FDW58          NaN          Low Fat         0.013224   \n",
       "\n",
       "        Item_Type  Item_MRP Outlet_Identifier  Outlet_Establishment_Year  \\\n",
       "0     Snack Foods  107.8622            OUT049                       1999   \n",
       "253   Snack Foods  104.4622            OUT017                       2007   \n",
       "1625  Snack Foods  107.0622            OUT018                       2009   \n",
       "1892  Snack Foods  105.9622            OUT046                       1997   \n",
       "2166  Snack Foods  105.8622            OUT045                       2002   \n",
       "2434  Snack Foods  107.6622            OUT027                       1985   \n",
       "2830  Snack Foods  106.4622            OUT019                       1985   \n",
       "\n",
       "     Outlet_Size Outlet_Location_Type        Outlet_Type  \n",
       "0         Medium               Tier 1  Supermarket Type1  \n",
       "253          NaN               Tier 2  Supermarket Type1  \n",
       "1625      Medium               Tier 3  Supermarket Type2  \n",
       "1892       Small               Tier 1  Supermarket Type1  \n",
       "2166         NaN               Tier 2  Supermarket Type1  \n",
       "2434      Medium               Tier 3  Supermarket Type3  \n",
       "2830       Small               Tier 1      Grocery Store  "
      ]
     },
     "execution_count": 53,
     "metadata": {},
     "output_type": "execute_result"
    }
   ],
   "source": [
    "# loading the test data\n",
    "test_data=pd.read_csv('D:\\Data Analysis Internship\\9961_14084_bundle_archive\\Test.csv')\n",
    "test_data=test_data.loc[test_data['Item_Identifier'] == 'FDW58']\n",
    "test_data"
   ]
  },
  {
   "cell_type": "markdown",
   "id": "14be0168",
   "metadata": {},
   "source": [
    "Important: The same preprocessing that was done during training should be the same that need to be done to test the model as well as when the model is in production, the best way to do it is by creating a pipeline, in the notebook this preprocessing is done manually."
   ]
  },
  {
   "cell_type": "code",
   "execution_count": 54,
   "id": "0a2593f4",
   "metadata": {},
   "outputs": [],
   "source": [
    "# Here basically is done the same data preprocessing that was done before for the training data\n",
    "\n",
    "\n",
    "# format column names to be lower-case\n",
    "new_col_names = [col.lower() for col in test_data.columns]\n",
    "test_data.columns = new_col_names\n",
    "\n",
    "# creating a new df to show the results of each datapoint at the end of the notebook\n",
    "results = test_data[['item_identifier', 'outlet_identifier']]\n",
    "\n",
    "# fill null values - item_weight\n",
    "test_data['item_weight'].fillna(test_data['item_weight'].mean(), inplace=True)\n",
    "\n",
    "# fill null values - outlet_size\n",
    "missing_values = test_data['outlet_size'].isnull()\n",
    "test_data.loc[missing_values, 'outlet_size'] = test_data.loc[missing_values, 'outlet_type'].apply(lambda x: outlet_size_mode_pt[x].outlet_size)\n",
    "\n",
    "# replace 0s - item_visibility\n",
    "test_data.loc[:,'item_visibility'].replace(to_replace=0,\n",
    "                                            value=test_data['item_visibility'].mean(),\n",
    "                                            inplace=True)\n",
    "\n",
    "# create a new feature - item_category\n",
    "test_data['item_category'] = test_data['item_identifier'].apply(lambda x: x[:2])\n",
    "test_data['item_category'] = test_data['item_category'].replace({'FD':'Food', 'DR':'Drink', 'NC':'Non-Consumable'})\n",
    "\n",
    "# create a new feature - outlet_years\n",
    "test_data['outlet_years'] = 2013 - test_data['outlet_establishment_year']\n",
    "\n",
    "# applying one-hot encoding to some features\n",
    "test_data = pd.get_dummies(test_data, columns=['item_fat_content', 'outlet_size', 'outlet_location_type', 'outlet_type', 'item_category'])\n",
    "\n",
    "# IMPORTANT: The same labels that were added during the training process must be added\n",
    "# label encoding\n",
    "test_data['item_identifier'] = test_data['item_identifier'].replace({'FDW58': 1114})\n",
    "test_data['item_type'] = test_data['item_type'].replace({'Snack Foods': 13})\n",
    "test_data['outlet_identifier'] = test_data['outlet_identifier'].replace({'OUT049': 9,\n",
    "                                                                         'OUT017': 2,\n",
    "                                                                         'OUT018': 3,\n",
    "                                                                         'OUT046': 8,\n",
    "                                                                         'OUT045': 7,\n",
    "                                                                         'OUT027': 5,\n",
    "                                                                         'OUT019': 4})\n",
    "\n",
    "# IMPORTANT: The feature labels that were added during the training process must be added\n",
    "# adding missing features\n",
    "test_data['item_fat_content_No Edible'] = 0\n",
    "test_data['item_fat_content_Regular'] = 0\n",
    "test_data['outlet_size_High'] = 0\n",
    "test_data['item_category_Drink'] = 0\n",
    "test_data['item_category_Non-Consumable'] = 0\n",
    "\n",
    "# drop unnecessary features\n",
    "test_data = test_data.drop(columns=['outlet_establishment_year'])\n",
    "\n",
    "# IMPORTANT: The features must match the same order as the training data\n",
    "# re-order columns\n",
    "test_data = test_data[['item_identifier',\n",
    "                       'item_weight',\n",
    "                       'item_visibility',\n",
    "                       'item_type',\n",
    "                       'item_mrp',\n",
    "                       'outlet_identifier',\n",
    "                       'outlet_years',\n",
    "                       'item_fat_content_Low Fat',\n",
    "                       'item_fat_content_No Edible',\n",
    "                       'item_fat_content_Regular',\n",
    "                       'outlet_size_High',\n",
    "                       'outlet_size_Medium',\n",
    "                       'outlet_size_Small',\n",
    "                       'outlet_location_type_Tier 1',\n",
    "                       'outlet_location_type_Tier 2',\n",
    "                       'outlet_location_type_Tier 3',\n",
    "                       'outlet_type_Grocery Store',\n",
    "                       'outlet_type_Supermarket Type1',\n",
    "                       'outlet_type_Supermarket Type2',\n",
    "                       'outlet_type_Supermarket Type3',\n",
    "                       'item_category_Drink',\n",
    "                       'item_category_Food',\n",
    "                       'item_category_Non-Consumable']]"
   ]
  },
  {
   "cell_type": "code",
   "execution_count": 55,
   "id": "10829a85",
   "metadata": {},
   "outputs": [
    {
     "name": "stderr",
     "output_type": "stream",
     "text": [
      "C:\\Users\\Rakesh\\AppData\\Local\\Temp\\ipykernel_20604\\3162532169.py:5: SettingWithCopyWarning: \n",
      "A value is trying to be set on a copy of a slice from a DataFrame.\n",
      "Try using .loc[row_indexer,col_indexer] = value instead\n",
      "\n",
      "See the caveats in the documentation: https://pandas.pydata.org/pandas-docs/stable/user_guide/indexing.html#returning-a-view-versus-a-copy\n",
      "  results['prediction'] = y_hat\n"
     ]
    },
    {
     "data": {
      "text/html": [
       "<div>\n",
       "<style scoped>\n",
       "    .dataframe tbody tr th:only-of-type {\n",
       "        vertical-align: middle;\n",
       "    }\n",
       "\n",
       "    .dataframe tbody tr th {\n",
       "        vertical-align: top;\n",
       "    }\n",
       "\n",
       "    .dataframe thead th {\n",
       "        text-align: right;\n",
       "    }\n",
       "</style>\n",
       "<table border=\"1\" class=\"dataframe\">\n",
       "  <thead>\n",
       "    <tr style=\"text-align: right;\">\n",
       "      <th></th>\n",
       "      <th>item_identifier</th>\n",
       "      <th>outlet_identifier</th>\n",
       "      <th>prediction</th>\n",
       "    </tr>\n",
       "  </thead>\n",
       "  <tbody>\n",
       "    <tr>\n",
       "      <th>0</th>\n",
       "      <td>FDW58</td>\n",
       "      <td>OUT049</td>\n",
       "      <td>1863.096133</td>\n",
       "    </tr>\n",
       "    <tr>\n",
       "      <th>253</th>\n",
       "      <td>FDW58</td>\n",
       "      <td>OUT017</td>\n",
       "      <td>1816.658633</td>\n",
       "    </tr>\n",
       "    <tr>\n",
       "      <th>1625</th>\n",
       "      <td>FDW58</td>\n",
       "      <td>OUT018</td>\n",
       "      <td>1476.158633</td>\n",
       "    </tr>\n",
       "    <tr>\n",
       "      <th>1892</th>\n",
       "      <td>FDW58</td>\n",
       "      <td>OUT046</td>\n",
       "      <td>1736.221133</td>\n",
       "    </tr>\n",
       "    <tr>\n",
       "      <th>2166</th>\n",
       "      <td>FDW58</td>\n",
       "      <td>OUT045</td>\n",
       "      <td>1666.721133</td>\n",
       "    </tr>\n",
       "    <tr>\n",
       "      <th>2434</th>\n",
       "      <td>FDW58</td>\n",
       "      <td>OUT027</td>\n",
       "      <td>3213.221133</td>\n",
       "    </tr>\n",
       "    <tr>\n",
       "      <th>2830</th>\n",
       "      <td>FDW58</td>\n",
       "      <td>OUT019</td>\n",
       "      <td>-148.341367</td>\n",
       "    </tr>\n",
       "  </tbody>\n",
       "</table>\n",
       "</div>"
      ],
      "text/plain": [
       "     item_identifier outlet_identifier   prediction\n",
       "0              FDW58            OUT049  1863.096133\n",
       "253            FDW58            OUT017  1816.658633\n",
       "1625           FDW58            OUT018  1476.158633\n",
       "1892           FDW58            OUT046  1736.221133\n",
       "2166           FDW58            OUT045  1666.721133\n",
       "2434           FDW58            OUT027  3213.221133\n",
       "2830           FDW58            OUT019  -148.341367"
      ]
     },
     "execution_count": 55,
     "metadata": {},
     "output_type": "execute_result"
    }
   ],
   "source": [
    "# predict the testing data\n",
    "y_hat = model_pipeline.predict(test_data)\n",
    "\n",
    "# displaying results\n",
    "results['prediction'] = y_hat\n",
    "results"
   ]
  },
  {
   "cell_type": "markdown",
   "id": "f5fdbfe2",
   "metadata": {},
   "source": [
    "## Notes:\n",
    "As shown in the previous data frame, based on the model prediction the store where the greatest profit from the sale of the product FDW58 would be obtained is OUT027."
   ]
  },
  {
   "cell_type": "markdown",
   "id": "30fd76ff",
   "metadata": {},
   "source": [
    "## Conclusion\n",
    "* Based on the analysis there is a lot that can be done to improve the data, trying to make it more representative for all the different categories and had better distribution.\n",
    "\n",
    "* The pre-processing of the data also can be improved, adding more columns, and try to get some features has a normal distribution instead of a skewed one.\n",
    "\n",
    "* The error of the model is still very high, also the score is too low, both metrics can be improved, either, improving the data or star playing with some hyperparameters to improve the model.\n",
    "\n",
    "* The current model works well as starting point, but can be improved."
   ]
  },
  {
   "cell_type": "code",
   "execution_count": null,
   "id": "d192cdab",
   "metadata": {},
   "outputs": [],
   "source": []
  }
 ],
 "metadata": {
  "kernelspec": {
   "display_name": "Python 3 (ipykernel)",
   "language": "python",
   "name": "python3"
  },
  "language_info": {
   "codemirror_mode": {
    "name": "ipython",
    "version": 3
   },
   "file_extension": ".py",
   "mimetype": "text/x-python",
   "name": "python",
   "nbconvert_exporter": "python",
   "pygments_lexer": "ipython3",
   "version": "3.9.13"
  }
 },
 "nbformat": 4,
 "nbformat_minor": 5
}
